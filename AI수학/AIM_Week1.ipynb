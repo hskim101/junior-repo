{
  "nbformat": 4,
  "nbformat_minor": 0,
  "metadata": {
    "colab": {
      "name": "AIM Week1.ipynb",
      "private_outputs": true,
      "provenance": []
    },
    "kernelspec": {
      "name": "python3",
      "display_name": "Python 3"
    },
    "language_info": {
      "name": "python"
    }
  },
  "cells": [
    {
      "cell_type": "code",
      "execution_count": null,
      "metadata": {
        "id": "oC5fd-V26F-c"
      },
      "outputs": [],
      "source": [
        "import numpy as np"
      ]
    },
    {
      "cell_type": "markdown",
      "source": [
        "## 스칼라 정의 및 연산"
      ],
      "metadata": {
        "id": "rRAjo2086M_8"
      }
    },
    {
      "cell_type": "code",
      "source": [
        "# 스칼라 정의\n",
        "x = 4\n",
        "y = 2\n",
        "\n",
        "# 스칼라 연산\n",
        "add_xy = x + y\n",
        "subt_xy = x - y\n",
        "mul_xy = x * y\n",
        "div_xy = x / y\n",
        "\n",
        "print(add_xy)\n",
        "print(subt_xy)\n",
        "print(mul_xy)\n",
        "print(int(div_xy))"
      ],
      "metadata": {
        "id": "Ty5diOb26MXH"
      },
      "execution_count": null,
      "outputs": []
    },
    {
      "cell_type": "markdown",
      "source": [
        "## 벡터 정의 및 연산"
      ],
      "metadata": {
        "id": "izXMfoti6-sp"
      }
    },
    {
      "cell_type": "code",
      "source": [
        "# 벡터 정의\n",
        "u = np.array([1,2,4])\n",
        "v = np.array([7,3,2])\n",
        "k = 3\n",
        "\n",
        "print(u, v)\n",
        "\n",
        "# 벡터 연산\n",
        "add_uv = u + v\n",
        "subt_uv = u - v\n",
        "mul_ku = k * u\n",
        "mul_uv = u * v\n",
        "div_uv = u / v\n",
        "\n",
        "print(add_uv)\n",
        "print(subt_uv)\n",
        "print(mul_ku)\n",
        "print(mul_uv)\n",
        "print(div_uv)"
      ],
      "metadata": {
        "id": "s8LlbCPp65J0"
      },
      "execution_count": null,
      "outputs": []
    },
    {
      "cell_type": "markdown",
      "source": [
        "## 행렬 정의 및 연산"
      ],
      "metadata": {
        "id": "50dixNbY70m-"
      }
    },
    {
      "cell_type": "code",
      "source": [
        "# 행렬 정의\n",
        "A = np.array([[2,7], [3,4], [6,1]])\n",
        "B = np.array([[1,4], [4,-1], [2,5]])\n",
        "C = np.array([[3,-3,5], [-1,2,-1]])\n",
        "k = 3\n",
        "\n",
        "print(A)\n",
        "print(B)\n",
        "print(C)\n",
        "\n",
        "# 행렬 연산\n",
        "add_AB = A + B\n",
        "subt_AB = A - B\n",
        "mul_kA = k * A\n",
        "mul_AB = np.multiply(A, B)\n",
        "matmul_AC = np.matmul(A, C)\n",
        "\n",
        "print(add_AB)\n",
        "print(subt_AB)\n",
        "print(mul_kA)\n",
        "print(mul_AB)\n",
        "print(matmul_AC)"
      ],
      "metadata": {
        "id": "jvBKetJK78Gj"
      },
      "execution_count": null,
      "outputs": []
    }
  ]
}