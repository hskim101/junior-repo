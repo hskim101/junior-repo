{
  "nbformat": 4,
  "nbformat_minor": 0,
  "metadata": {
    "colab": {
      "name": "AIM Week7.ipynb",
      "private_outputs": true,
      "provenance": []
    },
    "kernelspec": {
      "name": "python3",
      "display_name": "Python 3"
    },
    "language_info": {
      "name": "python"
    }
  },
  "cells": [
    {
      "cell_type": "code",
      "execution_count": null,
      "metadata": {
        "id": "ofdp0VFsWKkp"
      },
      "outputs": [],
      "source": [
        "import numpy as np"
      ]
    },
    {
      "cell_type": "code",
      "source": [
        "A = np.array([[3,6],\n",
        "              [2,3],\n",
        "              [1,2],\n",
        "              [5,5]])\n",
        "print(A)"
      ],
      "metadata": {
        "id": "vChfoVwPWVf7"
      },
      "execution_count": null,
      "outputs": []
    },
    {
      "cell_type": "code",
      "source": [
        "U, sigma, V_T = np.linalg.svd(A)\n",
        "\n",
        "print(U)\n",
        "print(np.diag(sigma))\n",
        "print(V_T)"
      ],
      "metadata": {
        "id": "IQH21sh5W1xS"
      },
      "execution_count": null,
      "outputs": []
    },
    {
      "cell_type": "code",
      "source": [
        "np.matmul(np.matmul(U[:, :2], np.diag(sigma)), V_T)"
      ],
      "metadata": {
        "id": "M2ILKPJsY5cw"
      },
      "execution_count": null,
      "outputs": []
    }
  ]
}