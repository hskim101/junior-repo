{
  "nbformat": 4,
  "nbformat_minor": 0,
  "metadata": {
    "colab": {
      "name": "AIM Week5-2.ipynb",
      "private_outputs": true,
      "provenance": []
    },
    "kernelspec": {
      "name": "python3",
      "display_name": "Python 3"
    },
    "language_info": {
      "name": "python"
    }
  },
  "cells": [
    {
      "cell_type": "code",
      "execution_count": null,
      "metadata": {
        "id": "Qwu9LL1ToRdb"
      },
      "outputs": [],
      "source": [
        "import numpy as np"
      ]
    },
    {
      "cell_type": "markdown",
      "source": [
        "## QR Factorization w/ Numpy"
      ],
      "metadata": {
        "id": "mxJc3PA6onkv"
      }
    },
    {
      "cell_type": "code",
      "source": [
        "A = np.array([[1, 0, 1], [0, 1, 1], [1, 2, 0]])\n",
        "print(A)"
      ],
      "metadata": {
        "id": "aTGcujByotZp"
      },
      "execution_count": null,
      "outputs": []
    },
    {
      "cell_type": "code",
      "source": [
        "Q, R = np.linalg.qr(A)\n",
        "print(Q)\n",
        "print(R)"
      ],
      "metadata": {
        "id": "P_2X03bqo1wE"
      },
      "execution_count": null,
      "outputs": []
    },
    {
      "cell_type": "code",
      "source": [
        "np.around(np.matmul(Q, R))"
      ],
      "metadata": {
        "id": "Vlk2AXetpU4R"
      },
      "execution_count": null,
      "outputs": []
    },
    {
      "cell_type": "markdown",
      "source": [
        "## Gram-Schmidt Process"
      ],
      "metadata": {
        "id": "Z9kCDhTfpGbU"
      }
    },
    {
      "cell_type": "code",
      "source": [
        "a1 = A.T[0]\n",
        "a2 = A.T[1]\n",
        "a3 = A.T[2]"
      ],
      "metadata": {
        "id": "yz_VBMIgrvWW"
      },
      "execution_count": null,
      "outputs": []
    },
    {
      "cell_type": "code",
      "source": [
        "print(a1)\n",
        "print(a2)\n",
        "print(a3)"
      ],
      "metadata": {
        "id": "TWPCbxlrpRJ2"
      },
      "execution_count": null,
      "outputs": []
    },
    {
      "cell_type": "markdown",
      "source": [
        "### Construct orthogonal basis"
      ],
      "metadata": {
        "id": "v9me2UzYs-Wo"
      }
    },
    {
      "cell_type": "markdown",
      "source": [
        "### Step 1. $u_1 = a_1$"
      ],
      "metadata": {
        "id": "APlkvVGHpZW1"
      }
    },
    {
      "cell_type": "code",
      "source": [
        "u1 = a1\n",
        "print(u1)"
      ],
      "metadata": {
        "id": "9nv47RwWpUzP"
      },
      "execution_count": null,
      "outputs": []
    },
    {
      "cell_type": "markdown",
      "source": [
        "### Step 2. $u_2=a_2-\\frac{<a_2, u_1>}{{\\|u_1\\|}^2}u_1$"
      ],
      "metadata": {
        "id": "Ui3DRLcaphyo"
      }
    },
    {
      "cell_type": "code",
      "source": [
        "u2 = a2 - np.inner(a2, u1)/np.inner(u1, u1)*u1\n",
        "print(u2)"
      ],
      "metadata": {
        "id": "xaiSBoeapg12"
      },
      "execution_count": null,
      "outputs": []
    },
    {
      "cell_type": "markdown",
      "source": [
        "### Step 3. $u_3=a_3-\\frac{<a_3, u_1>}{{\\|u_1\\|}^2}u_1-\\frac{<a_3, u_2>}{{\\|u_2\\|}^2}u_2$"
      ],
      "metadata": {
        "id": "yYHAhT7WsaPO"
      }
    },
    {
      "cell_type": "code",
      "source": [
        "u3 = a3 - np.inner(a3, u1)/np.inner(u1, u1)*u1 - np.inner(a3, u2)/np.inner(u2, u2)*u2\n",
        "print(u3)"
      ],
      "metadata": {
        "id": "809fljm4sZrK"
      },
      "execution_count": null,
      "outputs": []
    },
    {
      "cell_type": "markdown",
      "source": [
        "### Construct orthonormal basis"
      ],
      "metadata": {
        "id": "2wxX9suMtOoP"
      }
    },
    {
      "cell_type": "code",
      "source": [
        "v1 = 1/np.sqrt(np.inner(u1, u1))*u1\n",
        "v2 = 1/np.sqrt(np.inner(u2, u2))*u2\n",
        "v3 = 1/np.sqrt(np.inner(u3, u3))*u3\n",
        "print(v1)\n",
        "print(v2)\n",
        "print(v3)"
      ],
      "metadata": {
        "id": "zUfKKkK1tSAP"
      },
      "execution_count": null,
      "outputs": []
    },
    {
      "cell_type": "markdown",
      "source": [
        "## QR Factorization"
      ],
      "metadata": {
        "id": "AVMIrwRkt36M"
      }
    },
    {
      "cell_type": "code",
      "source": [
        "Q = np.array([v1, v2, v3]).T\n",
        "print(Q)"
      ],
      "metadata": {
        "id": "RYxydSpCt3i2"
      },
      "execution_count": null,
      "outputs": []
    },
    {
      "cell_type": "code",
      "source": [
        "R = [[0,0,0],[0,0,0],[0,0,0]]\n",
        "\n",
        "R[0][0] += np.inner(a1, v1)\n",
        "R[0][1] += np.inner(a2, v1)\n",
        "R[0][2] += np.inner(a3, v1)\n",
        "R[1][1] += np.inner(a2, v2)\n",
        "R[1][2] += np.inner(a3, v2)\n",
        "R[2][2] += np.inner(a3, v3)\n",
        "\n",
        "R = np.array(R)\n",
        "print(R)"
      ],
      "metadata": {
        "id": "acNcTZ5vuEZp"
      },
      "execution_count": null,
      "outputs": []
    },
    {
      "cell_type": "code",
      "source": [
        "np.around(np.matmul(Q, R))"
      ],
      "metadata": {
        "id": "A55tcjMKqIud"
      },
      "execution_count": null,
      "outputs": []
    }
  ]
}