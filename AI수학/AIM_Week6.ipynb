{
  "nbformat": 4,
  "nbformat_minor": 0,
  "metadata": {
    "colab": {
      "name": "AIM Week6.ipynb",
      "private_outputs": true,
      "provenance": []
    },
    "kernelspec": {
      "name": "python3",
      "display_name": "Python 3"
    },
    "language_info": {
      "name": "python"
    }
  },
  "cells": [
    {
      "cell_type": "code",
      "execution_count": null,
      "metadata": {
        "id": "Cjnq0hBLw4d2"
      },
      "outputs": [],
      "source": [
        "import numpy as np"
      ]
    },
    {
      "cell_type": "markdown",
      "source": [
        "## Eigenvalues and Eigenvectors"
      ],
      "metadata": {
        "id": "VPHfDTOLynkn"
      }
    },
    {
      "cell_type": "code",
      "source": [
        "A = np.array([[3, 2, -3], [5, 0, 4], [0, -1, 3]])\n",
        "print(A)"
      ],
      "metadata": {
        "id": "HW0GjKdOw72K"
      },
      "execution_count": null,
      "outputs": []
    },
    {
      "cell_type": "code",
      "source": [
        "e, v = np.linalg.eig(A)\n",
        "print(e)\n",
        "print(v)"
      ],
      "metadata": {
        "id": "mFpKNkK6xBtl"
      },
      "execution_count": null,
      "outputs": []
    },
    {
      "cell_type": "markdown",
      "source": [
        "## Eigendecomposition"
      ],
      "metadata": {
        "id": "X0yE7oN0yuoz"
      }
    },
    {
      "cell_type": "code",
      "source": [
        "B = np.array([[0, 0, -2],\n",
        "              [1, 2, 1],\n",
        "              [1, 0, 3]])"
      ],
      "metadata": {
        "id": "RQMl4OPtSFhk"
      },
      "execution_count": null,
      "outputs": []
    },
    {
      "cell_type": "code",
      "source": [
        "e, v = np.linalg.eig(B)"
      ],
      "metadata": {
        "id": "hDTZAW1vSTqP"
      },
      "execution_count": null,
      "outputs": []
    },
    {
      "cell_type": "code",
      "source": [
        "print(v)"
      ],
      "metadata": {
        "id": "yVYh0wAySZmF"
      },
      "execution_count": null,
      "outputs": []
    },
    {
      "cell_type": "code",
      "source": [
        "P = v\n",
        "D = np.diag(e)\n",
        "P_inv = np.linalg.inv(v)\n",
        "print(P)\n",
        "print(D)\n",
        "print(P_inv)"
      ],
      "metadata": {
        "id": "KGqYUHw5ywjD"
      },
      "execution_count": null,
      "outputs": []
    },
    {
      "cell_type": "code",
      "source": [
        "np.around(np.matmul(np.matmul(P, D), P_inv))"
      ],
      "metadata": {
        "id": "X4aMmyhXxF1u"
      },
      "execution_count": null,
      "outputs": []
    }
  ]
}